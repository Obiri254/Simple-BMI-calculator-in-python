{
 "cells": [
  {
   "cell_type": "code",
   "execution_count": 8,
   "id": "2b14b378",
   "metadata": {},
   "outputs": [
    {
     "name": "stdout",
     "output_type": "stream",
     "text": [
      "Please enter your height in centimeters: 1\n",
      "Please enter your weight in kilograms: 1\n",
      "Your body mass index =  10000.0\n",
      "You are severely overweight\n"
     ]
    }
   ],
   "source": [
    "# Prompt user to enter their height and weight\n",
    "\n",
    "Height = float(input(\"Please enter your height in centimeters: \"))\n",
    "Weight = float(input(\"Please enter your weight in kilograms: \"))\n",
    "\n",
    "#Convert centimeters to meters\n",
    "\n",
    "Height = Height / 100\n",
    "\n",
    "#Formula for calculating the body index mass\n",
    "\n",
    "BMI = Weight / (Height * Height)\n",
    "\n",
    "print(\"Your body mass index = \", BMI)\n",
    "\n",
    "#Print a comment depending on the BMI\n",
    "\n",
    "if (BMI>0):\n",
    "    \n",
    "    if (BMI <= 16):\n",
    "        print (\"You are severely underweight\")\n",
    "        \n",
    "    elif (BMI <= 18.5):\n",
    "        print (\"You are underweight\")\n",
    "    \n",
    "    elif (BMI <= 25):\n",
    "        print (\"You are healthy\")\n",
    "    \n",
    "    elif (BMI <= 30):\n",
    "        print (\"You are overweight\")\n",
    "    \n",
    "    \n",
    "    else:\n",
    "        print(\"You are severely overweight\")\n",
    "\n",
    "else:\n",
    "    print(\"Please enter valid values\")\n",
    "    \n",
    "    \n",
    "    "
   ]
  },
  {
   "cell_type": "code",
   "execution_count": null,
   "id": "4fa7e447",
   "metadata": {},
   "outputs": [],
   "source": []
  },
  {
   "cell_type": "code",
   "execution_count": null,
   "id": "ea9c06c6",
   "metadata": {},
   "outputs": [],
   "source": []
  }
 ],
 "metadata": {
  "kernelspec": {
   "display_name": "Python 3 (ipykernel)",
   "language": "python",
   "name": "python3"
  },
  "language_info": {
   "codemirror_mode": {
    "name": "ipython",
    "version": 3
   },
   "file_extension": ".py",
   "mimetype": "text/x-python",
   "name": "python",
   "nbconvert_exporter": "python",
   "pygments_lexer": "ipython3",
   "version": "3.9.7"
  }
 },
 "nbformat": 4,
 "nbformat_minor": 5
}
